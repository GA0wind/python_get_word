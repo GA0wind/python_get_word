{
 "cells": [
  {
   "cell_type": "code",
   "execution_count": 46,
   "metadata": {
    "collapsed": true
   },
   "outputs": [],
   "source": [
    "import jieba\n",
    "\n",
    "text = '''存在的不是这样一个问题:艺术是什么？存在的是这样一些问题:在某时，某地，艺术被表述为什么？这种表述出自谁之口？围绕着这一表述，什么话语和实践出现了？经由这些话语和实践，哪些关系被连接？伴随着这样的关系，怎样的权力分配的模式得以实现？何种制造真理的机制得以建立？艺术是复数的且永远是历史的。而从另一个角度说，艺术是制造历史的。我们无法将艺术理解成一些贯穿于时间中的点并将其连线。每一个艺术的点都包含着它对之前艺术历史的建构，和它对未来的预言。我们面对的是艺术的地层学。\n",
    "'''"
   ]
  },
  {
   "cell_type": "code",
   "execution_count": 47,
   "metadata": {},
   "outputs": [],
   "source": [
    "seg_list = jieba.cut_for_search(text)  # 搜索引擎模式\n",
    "data=list(seg_list)"
   ]
  },
  {
   "cell_type": "code",
   "execution_count": 48,
   "metadata": {},
   "outputs": [],
   "source": [
    "\n",
    "stopwords = [ line.rstrip() for line in open('stopwords.txt','r',encoding=\"gbk\").readlines()]\n",
    "data = [d for d in data if d not in stopwords ]\n",
    "c = dict.fromkeys(data,0)"
   ]
  },
  {
   "cell_type": "code",
   "execution_count": 49,
   "metadata": {},
   "outputs": [
    {
     "data": {
      "text/plain": [
       "[('艺术', 8),\n",
       " ('一个', 3),\n",
       " ('表述', 3),\n",
       " ('历史', 3),\n",
       " ('存在', 2),\n",
       " ('问题', 2),\n",
       " ('一些', 2),\n",
       " ('话语', 2),\n",
       " ('实践', 2),\n",
       " ('关系', 2),\n",
       " ('得以', 2),\n",
       " ('制造', 2),\n",
       " ('点', 2),\n",
       " ('某时', 1),\n",
       " ('某地', 1),\n",
       " ('这种', 1),\n",
       " ('出自', 1),\n",
       " ('之口', 1),\n",
       " ('围绕', 1),\n",
       " ('出现', 1),\n",
       " ('经由', 1),\n",
       " ('连接', 1),\n",
       " ('伴随', 1),\n",
       " ('权力', 1),\n",
       " ('分配', 1),\n",
       " ('模式', 1),\n",
       " ('实现', 1),\n",
       " ('何种', 1),\n",
       " ('真理', 1),\n",
       " ('机制', 1),\n",
       " ('建立', 1),\n",
       " ('复数', 1),\n",
       " ('永远', 1),\n",
       " ('角度', 1),\n",
       " ('说', 1),\n",
       " ('无法', 1),\n",
       " ('理解', 1),\n",
       " ('成', 1),\n",
       " ('贯穿', 1),\n",
       " ('时间', 1),\n",
       " ('中', 1),\n",
       " ('连线', 1),\n",
       " ('包含', 1),\n",
       " ('之前', 1),\n",
       " ('建构', 1),\n",
       " ('未来', 1),\n",
       " ('预言', 1),\n",
       " ('面对', 1),\n",
       " ('地层', 1),\n",
       " ('地层学', 1),\n",
       " ('\\n', 1)]"
      ]
     },
     "execution_count": 49,
     "metadata": {},
     "output_type": "execute_result"
    }
   ],
   "source": [
    "for x in data:\n",
    "    c[x]+=1\n",
    "newc = sorted(c.items(),key=lambda x:x[1],reverse=True)\n",
    "newc\n"
   ]
  },
  {
   "cell_type": "code",
   "execution_count": null,
   "metadata": {
    "collapsed": true
   },
   "outputs": [],
   "source": []
  }
 ],
 "metadata": {
  "kernelspec": {
   "display_name": "Python 3",
   "language": "python",
   "name": "python3"
  },
  "language_info": {
   "codemirror_mode": {
    "name": "ipython",
    "version": 3
   },
   "file_extension": ".py",
   "mimetype": "text/x-python",
   "name": "python",
   "nbconvert_exporter": "python",
   "pygments_lexer": "ipython3",
   "version": "3.6.1"
  }
 },
 "nbformat": 4,
 "nbformat_minor": 2
}
